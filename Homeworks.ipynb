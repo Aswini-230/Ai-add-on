{
  "nbformat": 4,
  "nbformat_minor": 0,
  "metadata": {
    "colab": {
      "provenance": []
    },
    "kernelspec": {
      "name": "python3",
      "display_name": "Python 3"
    },
    "language_info": {
      "name": "python"
    }
  },
  "cells": [
    {
      "cell_type": "markdown",
      "source": [],
      "metadata": {
        "id": "SKg6AlnFYx6j"
      }
    },
    {
      "cell_type": "markdown",
      "source": [
        "1. Write a function to calculate the sum of digits in a number entered by user.\n",
        "\n",
        "\n",
        "\n",
        "*eg: If the number user entered is 555 then the sum is 5+5+5 = 15*\n",
        "\n",
        "\n",
        "\n"
      ],
      "metadata": {
        "id": "VpXGI-QPHSxt"
      }
    },
    {
      "cell_type": "code",
      "source": [
        "def sum_of_digits():\n",
        "  n = int(input(\"Enter a number: \"))\n",
        "  sum = 0\n",
        "  while n>0:\n",
        "    sum = sum + n%10\n",
        "    n = n//10\n",
        "  print(\"Sum of digits is: \", sum)\n",
        "sum_of_digits()\n"
      ],
      "metadata": {
        "colab": {
          "base_uri": "https://localhost:8080/"
        },
        "id": "D78sdvaYY3eW",
        "outputId": "4b2bfd05-1c24-4e15-bf1e-5e3d29082713"
      },
      "execution_count": null,
      "outputs": [
        {
          "output_type": "stream",
          "name": "stdout",
          "text": [
            "Enter a number: 678\n",
            "Sum of digits is:  21\n"
          ]
        }
      ]
    },
    {
      "cell_type": "markdown",
      "source": [
        "2. Create a list \"mylist\" that contains integer numbers, float numbers, and strings.\n",
        "\n",
        "Now write a function that creates a dictionary with each data types and its counts.\n",
        "\n",
        "if the list is mylist = [1, 7, 15, 25, 1.5, 55.8, \"Arun\", \"Akhil\", \"Akshay\"],\n",
        "\n",
        "then the dictionary will have {\"integer numbers\": 4, \"floating numbers\":2, \"Strings\": 3}"
      ],
      "metadata": {
        "id": "49q5XZr1apHj"
      }
    },
    {
      "cell_type": "code",
      "source": [
        "mylists = [2.3,4,5,3,5.6,7.2,\"Ash\",\"Riya\",\"Akash\"]\n"
      ],
      "metadata": {
        "id": "TUdIDkImaubK"
      },
      "execution_count": null,
      "outputs": []
    },
    {
      "cell_type": "code",
      "source": [
        "def count(mylists):\n",
        "  integers = 0\n",
        "  floats = 0\n",
        "  strings = 0\n",
        "  for i in mylists:\n",
        "    if type(i) == int:\n",
        "      integers += 1\n",
        "    elif type(i) == float:\n",
        "      floats += 1\n",
        "    elif type(i) == str:\n",
        "      strings += 1\n",
        "  return {\"integers\": integers, \"floats\": floats, \"strings\": strings}\n",
        "\n",
        "print(count(mylists))"
      ],
      "metadata": {
        "colab": {
          "base_uri": "https://localhost:8080/"
        },
        "id": "sBFN-j1lcxxG",
        "outputId": "881fca61-7537-45fb-b6b1-312f64ed54d2"
      },
      "execution_count": null,
      "outputs": [
        {
          "output_type": "stream",
          "name": "stdout",
          "text": [
            "{'integers': 3, 'floats': 3, 'strings': 3}\n"
          ]
        }
      ]
    },
    {
      "cell_type": "markdown",
      "source": [],
      "metadata": {
        "id": "hOaENg2JgeJo"
      }
    },
    {
      "cell_type": "markdown",
      "source": [
        "3. Write a function that takes a list of numbers and returns a dictionary with 'sum', 'average', 'max', and 'min' values of the list."
      ],
      "metadata": {
        "id": "tDjsF7rX5NhM"
      }
    },
    {
      "cell_type": "code",
      "source": [
        "l = [4,3,5,7,8,10,12]"
      ],
      "metadata": {
        "id": "BFy_68mXgg7B"
      },
      "execution_count": null,
      "outputs": []
    },
    {
      "cell_type": "code",
      "source": [
        "sum = 0\n",
        "average = 0\n",
        "max = l[0]\n",
        "min = l[0]\n",
        "for i in l:\n",
        "  sum = sum +i\n",
        "  if max < i:\n",
        "    max = i\n",
        "  if min > i:\n",
        "    min = i\n",
        "average = sum/len(l)\n",
        "return_dict = {\"sum\": sum, \"average\": average, \"max\": max, \"min\": min}\n",
        "print(return_dict)"
      ],
      "metadata": {
        "colab": {
          "base_uri": "https://localhost:8080/"
        },
        "id": "JzZtpszxgu2n",
        "outputId": "061db4dd-2ac9-40de-f943-747207ee8965"
      },
      "execution_count": null,
      "outputs": [
        {
          "output_type": "stream",
          "name": "stdout",
          "text": [
            "{'sum': 49, 'average': 7.0, 'max': 12, 'min': 3}\n"
          ]
        }
      ]
    },
    {
      "cell_type": "markdown",
      "source": [],
      "metadata": {
        "id": "m-g720DnjxyJ"
      }
    },
    {
      "cell_type": "markdown",
      "source": [
        "4. Create a function that takes a string and returns a dictionary with counts of vowels and consonants."
      ],
      "metadata": {
        "id": "w1fdqPh16ULv"
      }
    },
    {
      "cell_type": "code",
      "source": [
        "def counts(strings):\n",
        "  vowels = \"aeiouAEIOU\"\n",
        "\n",
        "  consonants = 0\n",
        "  vowel_count = 0\n",
        "  for char in strings:\n",
        "    if char in vowels:\n",
        "      vowel_count += 1\n",
        "    else:\n",
        "      consonants += 1\n",
        "  return {\"vowels\": vowel_count, \"consonants\": consonants}\n",
        "print(counts(\"Afhyjoi\"))"
      ],
      "metadata": {
        "colab": {
          "base_uri": "https://localhost:8080/"
        },
        "id": "7a0bLutCj39s",
        "outputId": "cda75a5a-317c-4e66-9ef4-743c250299e9"
      },
      "execution_count": null,
      "outputs": [
        {
          "output_type": "stream",
          "name": "stdout",
          "text": [
            "{'vowels': 3, 'consonants': 4}\n"
          ]
        }
      ]
    },
    {
      "cell_type": "markdown",
      "source": [],
      "metadata": {
        "id": "1jTr3gMgtMNA"
      }
    },
    {
      "cell_type": "markdown",
      "source": [
        "5. Write a function that checks if a number is a strong number\n",
        "\n"
      ],
      "metadata": {
        "id": "QcJ7feHW7I-L"
      }
    },
    {
      "cell_type": "code",
      "source": [
        "n = int(input(\"Enter a number: \"))\n",
        "strong = n\n",
        "sum = 0\n",
        "while n>0:\n",
        "  r = n%10\n",
        "  f = 1\n",
        "  for i in range (1,r+1):\n",
        "    f = f*i\n",
        "  sum = sum + f\n",
        "  n = n//10\n",
        "if (strong==sum):\n",
        "  print(\"The number is strong\")\n",
        "else:\n",
        "  print(\"The number is not strong\")\n",
        "\n"
      ],
      "metadata": {
        "id": "vqsqIvLvnMdp",
        "colab": {
          "base_uri": "https://localhost:8080/"
        },
        "outputId": "b943ce28-f264-4afa-965e-0f17c5e5b5e7"
      },
      "execution_count": null,
      "outputs": [
        {
          "output_type": "stream",
          "name": "stdout",
          "text": [
            "Enter a number: 23\n",
            "The number is not strong\n"
          ]
        }
      ]
    },
    {
      "cell_type": "markdown",
      "source": [
        "FILE HANDLING"
      ],
      "metadata": {
        "id": "1TEHhxoA2Di3"
      }
    },
    {
      "cell_type": "markdown",
      "source": [],
      "metadata": {
        "id": "hONXh-nJ2bEs"
      }
    },
    {
      "cell_type": "markdown",
      "metadata": {
        "id": "964c5d18"
      },
      "source": [
        "* Create a new file 'notes.txt' and write 3 lines to it.\n",
        "* Read it line by line and print only lines containing 'Python'.\n",
        "* Append one new line and display the final content.\n",
        "* Use with open() to safely handle file.\n",
        "\n"
      ]
    },
    {
      "cell_type": "code",
      "source": [
        "with open ('notes.txt','w') as f:\n",
        "  f.write(\"I am learning Python.\\n\")\n",
        "  f.write(\"Python is a programming language.\\n\")\n",
        "  f.write(\"It is easy to learn.\\n\")\n",
        "\n"
      ],
      "metadata": {
        "id": "plELGSEB5opN"
      },
      "execution_count": 1,
      "outputs": []
    },
    {
      "cell_type": "code",
      "source": [
        "with open('notes.txt','r') as f:\n",
        "  lines = f.readlines()\n",
        "  for line in lines:\n",
        "    if 'Python' in line:\n",
        "      print(line)\n",
        "\n",
        "\n"
      ],
      "metadata": {
        "id": "TbNCEeX07mXi",
        "colab": {
          "base_uri": "https://localhost:8080/"
        },
        "outputId": "96a5eeae-93f9-4f44-ffbe-fa7b739f34b1"
      },
      "execution_count": 2,
      "outputs": [
        {
          "output_type": "stream",
          "name": "stdout",
          "text": [
            "I am learning Python.\n",
            "\n",
            "Python is a programming language.\n",
            "\n"
          ]
        }
      ]
    },
    {
      "cell_type": "code",
      "source": [
        "new = \"It is a high level language.\"\n",
        "with open('notes.txt','r') as f :\n",
        "  content = f.read()\n",
        "if new not in content :\n",
        "  with open('notes.txt','a') as f:\n",
        "    f.write(new + \"\\n\")\n",
        "\n"
      ],
      "metadata": {
        "id": "jLQI0h1k86Dp"
      },
      "execution_count": 3,
      "outputs": []
    },
    {
      "cell_type": "code",
      "source": [
        "with open('notes.txt','r') as f:\n",
        "  print(\"\\nFinal content of the file:\")\n",
        "  print(f.read())"
      ],
      "metadata": {
        "colab": {
          "base_uri": "https://localhost:8080/"
        },
        "id": "X2tIo4dvE2G4",
        "outputId": "26924087-63d0-4d4c-c211-85fedf1d6075"
      },
      "execution_count": 4,
      "outputs": [
        {
          "output_type": "stream",
          "name": "stdout",
          "text": [
            "\n",
            "Final content of the file:\n",
            "I am learning Python.\n",
            "Python is a programming language.\n",
            "It is easy to learn.\n",
            "It is a high level language.\n",
            "\n"
          ]
        }
      ]
    },
    {
      "cell_type": "markdown",
      "source": [
        "EXCEPTION HANDLING"
      ],
      "metadata": {
        "id": "H6TkYncaDH5P"
      }
    },
    {
      "cell_type": "markdown",
      "source": [],
      "metadata": {
        "id": "HQ8Jh1ufJaSS"
      }
    },
    {
      "cell_type": "markdown",
      "metadata": {
        "id": "28d37876"
      },
      "source": [
        "\n",
        "1️.Write a program to handle division by zero when dividing two numbers.\n",
        "\n",
        "2️.Handle both ValueError and ZeroDivisionError during user input.\n",
        "\n",
        "3.Use else and finally to print messages when operations succeed and files close.\n"
      ]
    },
    {
      "cell_type": "code",
      "source": [
        "try:\n",
        "  n1 = float(input(\"Enter numberator : \"))\n",
        "  n2 = float(input(\" Enter the denominator: \"))\n",
        "  result = n1/n2\n",
        "  print (\"Result :\",result)\n",
        "except ValueError:\n",
        "  print(\"Enter a valid number\")\n",
        "except ZeroDivisionError:\n",
        "  print(\"Cannot divide by zero\")\n",
        "else :\n",
        "  print(\"Division successful!\")\n",
        "finally:\n",
        "  print(\"Program finished.File or resources closed(if any).\")"
      ],
      "metadata": {
        "colab": {
          "base_uri": "https://localhost:8080/"
        },
        "id": "z6REBYGSJVLq",
        "outputId": "9af046dc-7f5c-4349-ac46-fb090ff57dc1"
      },
      "execution_count": 5,
      "outputs": [
        {
          "output_type": "stream",
          "name": "stdout",
          "text": [
            "Enter numberator : 3\n",
            " Enter the denominator: 5\n",
            "Result : 0.6\n",
            "Division successful!\n",
            "Program finished.File or resources closed(if any).\n"
          ]
        }
      ]
    },
    {
      "cell_type": "markdown",
      "source": [
        "MODULES AND PACKAGES"
      ],
      "metadata": {
        "id": "V0KqJjR1M-2B"
      }
    },
    {
      "cell_type": "markdown",
      "source": [],
      "metadata": {
        "id": "rVbxEB5-NKwp"
      }
    },
    {
      "cell_type": "markdown",
      "metadata": {
        "id": "cc6e93be"
      },
      "source": [
        "\n",
        "\n",
        "1️ Create a new module called 'calculator.py' with add(), subtract(), multiply().\n",
        "\n",
        "2️ Import and use it in this notebook.\n",
        "\n",
        "3️ Explore dir(random) to see available functions.\n",
        "\n",
        "4️ Create a package called 'utils' with two modules:\n",
        "    - strings.py → count_words(text)\n",
        "    - numbers.py → factorial(n)\n"
      ]
    },
    {
      "cell_type": "code",
      "source": [
        "import calculator\n",
        "\n",
        "print ( \"Addition: \",calculator.add(2,3))\n",
        "print (\"subtraction : \",calculator.subtract(4,3))\n",
        "print (\"multiplication: \",calculator.multiply(2,6))"
      ],
      "metadata": {
        "colab": {
          "base_uri": "https://localhost:8080/"
        },
        "id": "dRih315_QkE2",
        "outputId": "ebd9fa6d-aca3-42cf-95e3-0e2d555e4cf0"
      },
      "execution_count": 6,
      "outputs": [
        {
          "output_type": "stream",
          "name": "stdout",
          "text": [
            "Addition:  5\n",
            "subtraction :  1\n",
            "multiplication:  12\n"
          ]
        }
      ]
    },
    {
      "cell_type": "code",
      "source": [
        "import random\n",
        "print(dir(random))\n"
      ],
      "metadata": {
        "colab": {
          "base_uri": "https://localhost:8080/"
        },
        "id": "o8FbQvfCR-5w",
        "outputId": "14ac327e-9c86-4b03-889c-b46bc04b3a39"
      },
      "execution_count": null,
      "outputs": [
        {
          "output_type": "stream",
          "name": "stdout",
          "text": [
            "['BPF', 'LOG4', 'NV_MAGICCONST', 'RECIP_BPF', 'Random', 'SG_MAGICCONST', 'SystemRandom', 'TWOPI', '_ONE', '_Sequence', '__all__', '__builtins__', '__cached__', '__doc__', '__file__', '__loader__', '__name__', '__package__', '__spec__', '_accumulate', '_acos', '_bisect', '_ceil', '_cos', '_e', '_exp', '_fabs', '_floor', '_index', '_inst', '_isfinite', '_lgamma', '_log', '_log2', '_os', '_pi', '_random', '_repeat', '_sha512', '_sin', '_sqrt', '_test', '_test_generator', '_urandom', '_warn', 'betavariate', 'binomialvariate', 'choice', 'choices', 'expovariate', 'gammavariate', 'gauss', 'getrandbits', 'getstate', 'lognormvariate', 'normalvariate', 'paretovariate', 'randbytes', 'randint', 'random', 'randrange', 'sample', 'seed', 'setstate', 'shuffle', 'triangular', 'uniform', 'vonmisesvariate', 'weibullvariate']\n"
          ]
        }
      ]
    },
    {
      "cell_type": "code",
      "source": [
        "print(random.randint(1,10))"
      ],
      "metadata": {
        "colab": {
          "base_uri": "https://localhost:8080/"
        },
        "id": "K9u9lpg4SMHv",
        "outputId": "e1bd3d0b-cb49-4096-c90d-a6327f5c3e1c"
      },
      "execution_count": null,
      "outputs": [
        {
          "output_type": "stream",
          "name": "stdout",
          "text": [
            "7\n"
          ]
        }
      ]
    },
    {
      "cell_type": "code",
      "source": [
        "from utils import strings,numbers\n",
        "t = \"Python is simple\"\n",
        "print(\"Word count: \",strings.count_words(t))\n",
        "\n",
        "n=10\n",
        "print(\"is even : \",numbers.is_even(n))"
      ],
      "metadata": {
        "colab": {
          "base_uri": "https://localhost:8080/"
        },
        "id": "-jFufqaVScr7",
        "outputId": "80c53457-0276-4c5b-f4e3-48ef8f582088"
      },
      "execution_count": 7,
      "outputs": [
        {
          "output_type": "stream",
          "name": "stdout",
          "text": [
            "Word count:  3\n",
            "is even :  True\n"
          ]
        }
      ]
    },
    {
      "cell_type": "markdown",
      "source": [
        "NUMPY AND PANDAS\n"
      ],
      "metadata": {
        "id": "409tM9zyXZMD"
      }
    },
    {
      "cell_type": "markdown",
      "source": [],
      "metadata": {
        "id": "rPoK3k3DXf3z"
      }
    },
    {
      "cell_type": "markdown",
      "metadata": {
        "id": "827c460d"
      },
      "source": [
        "Questions?\n",
        "\n",
        "1. What was the maximum temparature in new york in the month of january?\n",
        "\n",
        "2. On which days did it rains?\n",
        "\n",
        "3. What was the average speed of wind during the month?\n"
      ]
    },
    {
      "cell_type": "code",
      "source": [
        "import pandas as pd\n",
        "df = pd.read_csv(\"/content/nyc_weather.csv\")\n",
        "df"
      ],
      "metadata": {
        "colab": {
          "base_uri": "https://localhost:8080/",
          "height": 1000
        },
        "id": "ZHi0Y_JPXnkp",
        "outputId": "20ab4b3d-b7de-4ef4-8456-85e8f0af8f50"
      },
      "execution_count": null,
      "outputs": [
        {
          "output_type": "execute_result",
          "data": {
            "text/plain": [
              "          EST  Temperature  DewPoint  Humidity  Sea Level PressureIn  \\\n",
              "0    1/1/2016           38        23        52                 30.03   \n",
              "1    1/2/2016           36        18        46                 30.02   \n",
              "2    1/3/2016           40        21        47                 29.86   \n",
              "3    1/4/2016           25         9        44                 30.05   \n",
              "4    1/5/2016           20        -3        41                 30.57   \n",
              "5    1/6/2016           33         4        35                 30.50   \n",
              "6    1/7/2016           39        11        33                 30.28   \n",
              "7    1/8/2016           39        29        64                 30.20   \n",
              "8    1/9/2016           44        38        77                 30.16   \n",
              "9   1/10/2016           50        46        71                 29.59   \n",
              "10  1/11/2016           33         8        37                 29.92   \n",
              "11  1/12/2016           35        15        53                 29.85   \n",
              "12  1/13/2016           26         4        42                 29.94   \n",
              "13  1/14/2016           30        12        47                 29.95   \n",
              "14  1/15/2016           43        31        62                 29.82   \n",
              "15  1/16/2016           47        37        70                 29.52   \n",
              "16  1/17/2016           36        23        66                 29.78   \n",
              "17  1/18/2016           25         6        53                 29.83   \n",
              "18  1/19/2016           22         3        42                 30.03   \n",
              "19  1/20/2016           32        15        49                 30.13   \n",
              "20  1/21/2016           31        11        45                 30.15   \n",
              "21  1/22/2016           26         6        41                 30.21   \n",
              "22  1/23/2016           26        21        78                 29.77   \n",
              "23  1/24/2016           28        11        53                 29.92   \n",
              "24  1/25/2016           34        18        54                 30.25   \n",
              "25  1/26/2016           43        29        56                 30.03   \n",
              "26  1/27/2016           41        22        45                 30.03   \n",
              "27  1/28/2016           37        20        51                 29.90   \n",
              "28  1/29/2016           36        21        50                 29.58   \n",
              "29  1/30/2016           34        16        46                 30.01   \n",
              "30  1/31/2016           46        28        52                 29.90   \n",
              "\n",
              "    VisibilityMiles  WindSpeedMPH PrecipitationIn  CloudCover    Events  \\\n",
              "0                10           8.0               0           5       NaN   \n",
              "1                10           7.0               0           3       NaN   \n",
              "2                10           8.0               0           1       NaN   \n",
              "3                10           9.0               0           3       NaN   \n",
              "4                10           5.0               0           0       NaN   \n",
              "5                10           4.0               0           0       NaN   \n",
              "6                10           2.0               0           3       NaN   \n",
              "7                10           4.0               0           8       NaN   \n",
              "8                 9           8.0               T           8      Rain   \n",
              "9                 4           NaN             1.8           7      Rain   \n",
              "10               10           NaN               0           1       NaN   \n",
              "11               10           6.0               T           4       NaN   \n",
              "12               10          10.0               0           0       NaN   \n",
              "13               10           5.0               T           7       NaN   \n",
              "14                9           5.0               T           2       NaN   \n",
              "15                8           7.0            0.24           7      Rain   \n",
              "16                8           6.0            0.05           6  Fog-Snow   \n",
              "17                9          12.0               T           2      Snow   \n",
              "18               10          11.0               0           1       NaN   \n",
              "19               10           6.0               0           2       NaN   \n",
              "20               10           6.0               0           1       NaN   \n",
              "21                9           NaN            0.01           3      Snow   \n",
              "22                1          16.0            2.31           8  Fog-Snow   \n",
              "23                8           6.0               T           3      Snow   \n",
              "24               10           3.0               0           2       NaN   \n",
              "25               10           7.0               0           2       NaN   \n",
              "26               10           7.0               T           3      Rain   \n",
              "27               10           5.0               0           1       NaN   \n",
              "28               10           8.0               0           4       NaN   \n",
              "29               10           7.0               0           0       NaN   \n",
              "30               10           5.0               0           0       NaN   \n",
              "\n",
              "    WindDirDegrees  \n",
              "0              281  \n",
              "1              275  \n",
              "2              277  \n",
              "3              345  \n",
              "4              333  \n",
              "5              259  \n",
              "6              293  \n",
              "7               79  \n",
              "8               76  \n",
              "9              109  \n",
              "10             289  \n",
              "11             235  \n",
              "12             284  \n",
              "13             266  \n",
              "14             101  \n",
              "15             340  \n",
              "16             345  \n",
              "17             293  \n",
              "18             293  \n",
              "19             302  \n",
              "20             312  \n",
              "21              34  \n",
              "22              42  \n",
              "23             327  \n",
              "24             286  \n",
              "25             244  \n",
              "26             311  \n",
              "27             234  \n",
              "28             298  \n",
              "29             257  \n",
              "30             241  "
            ],
            "text/html": [
              "\n",
              "  <div id=\"df-cc496baa-8fd5-4125-b65b-1554dedf79ac\" class=\"colab-df-container\">\n",
              "    <div>\n",
              "<style scoped>\n",
              "    .dataframe tbody tr th:only-of-type {\n",
              "        vertical-align: middle;\n",
              "    }\n",
              "\n",
              "    .dataframe tbody tr th {\n",
              "        vertical-align: top;\n",
              "    }\n",
              "\n",
              "    .dataframe thead th {\n",
              "        text-align: right;\n",
              "    }\n",
              "</style>\n",
              "<table border=\"1\" class=\"dataframe\">\n",
              "  <thead>\n",
              "    <tr style=\"text-align: right;\">\n",
              "      <th></th>\n",
              "      <th>EST</th>\n",
              "      <th>Temperature</th>\n",
              "      <th>DewPoint</th>\n",
              "      <th>Humidity</th>\n",
              "      <th>Sea Level PressureIn</th>\n",
              "      <th>VisibilityMiles</th>\n",
              "      <th>WindSpeedMPH</th>\n",
              "      <th>PrecipitationIn</th>\n",
              "      <th>CloudCover</th>\n",
              "      <th>Events</th>\n",
              "      <th>WindDirDegrees</th>\n",
              "    </tr>\n",
              "  </thead>\n",
              "  <tbody>\n",
              "    <tr>\n",
              "      <th>0</th>\n",
              "      <td>1/1/2016</td>\n",
              "      <td>38</td>\n",
              "      <td>23</td>\n",
              "      <td>52</td>\n",
              "      <td>30.03</td>\n",
              "      <td>10</td>\n",
              "      <td>8.0</td>\n",
              "      <td>0</td>\n",
              "      <td>5</td>\n",
              "      <td>NaN</td>\n",
              "      <td>281</td>\n",
              "    </tr>\n",
              "    <tr>\n",
              "      <th>1</th>\n",
              "      <td>1/2/2016</td>\n",
              "      <td>36</td>\n",
              "      <td>18</td>\n",
              "      <td>46</td>\n",
              "      <td>30.02</td>\n",
              "      <td>10</td>\n",
              "      <td>7.0</td>\n",
              "      <td>0</td>\n",
              "      <td>3</td>\n",
              "      <td>NaN</td>\n",
              "      <td>275</td>\n",
              "    </tr>\n",
              "    <tr>\n",
              "      <th>2</th>\n",
              "      <td>1/3/2016</td>\n",
              "      <td>40</td>\n",
              "      <td>21</td>\n",
              "      <td>47</td>\n",
              "      <td>29.86</td>\n",
              "      <td>10</td>\n",
              "      <td>8.0</td>\n",
              "      <td>0</td>\n",
              "      <td>1</td>\n",
              "      <td>NaN</td>\n",
              "      <td>277</td>\n",
              "    </tr>\n",
              "    <tr>\n",
              "      <th>3</th>\n",
              "      <td>1/4/2016</td>\n",
              "      <td>25</td>\n",
              "      <td>9</td>\n",
              "      <td>44</td>\n",
              "      <td>30.05</td>\n",
              "      <td>10</td>\n",
              "      <td>9.0</td>\n",
              "      <td>0</td>\n",
              "      <td>3</td>\n",
              "      <td>NaN</td>\n",
              "      <td>345</td>\n",
              "    </tr>\n",
              "    <tr>\n",
              "      <th>4</th>\n",
              "      <td>1/5/2016</td>\n",
              "      <td>20</td>\n",
              "      <td>-3</td>\n",
              "      <td>41</td>\n",
              "      <td>30.57</td>\n",
              "      <td>10</td>\n",
              "      <td>5.0</td>\n",
              "      <td>0</td>\n",
              "      <td>0</td>\n",
              "      <td>NaN</td>\n",
              "      <td>333</td>\n",
              "    </tr>\n",
              "    <tr>\n",
              "      <th>5</th>\n",
              "      <td>1/6/2016</td>\n",
              "      <td>33</td>\n",
              "      <td>4</td>\n",
              "      <td>35</td>\n",
              "      <td>30.50</td>\n",
              "      <td>10</td>\n",
              "      <td>4.0</td>\n",
              "      <td>0</td>\n",
              "      <td>0</td>\n",
              "      <td>NaN</td>\n",
              "      <td>259</td>\n",
              "    </tr>\n",
              "    <tr>\n",
              "      <th>6</th>\n",
              "      <td>1/7/2016</td>\n",
              "      <td>39</td>\n",
              "      <td>11</td>\n",
              "      <td>33</td>\n",
              "      <td>30.28</td>\n",
              "      <td>10</td>\n",
              "      <td>2.0</td>\n",
              "      <td>0</td>\n",
              "      <td>3</td>\n",
              "      <td>NaN</td>\n",
              "      <td>293</td>\n",
              "    </tr>\n",
              "    <tr>\n",
              "      <th>7</th>\n",
              "      <td>1/8/2016</td>\n",
              "      <td>39</td>\n",
              "      <td>29</td>\n",
              "      <td>64</td>\n",
              "      <td>30.20</td>\n",
              "      <td>10</td>\n",
              "      <td>4.0</td>\n",
              "      <td>0</td>\n",
              "      <td>8</td>\n",
              "      <td>NaN</td>\n",
              "      <td>79</td>\n",
              "    </tr>\n",
              "    <tr>\n",
              "      <th>8</th>\n",
              "      <td>1/9/2016</td>\n",
              "      <td>44</td>\n",
              "      <td>38</td>\n",
              "      <td>77</td>\n",
              "      <td>30.16</td>\n",
              "      <td>9</td>\n",
              "      <td>8.0</td>\n",
              "      <td>T</td>\n",
              "      <td>8</td>\n",
              "      <td>Rain</td>\n",
              "      <td>76</td>\n",
              "    </tr>\n",
              "    <tr>\n",
              "      <th>9</th>\n",
              "      <td>1/10/2016</td>\n",
              "      <td>50</td>\n",
              "      <td>46</td>\n",
              "      <td>71</td>\n",
              "      <td>29.59</td>\n",
              "      <td>4</td>\n",
              "      <td>NaN</td>\n",
              "      <td>1.8</td>\n",
              "      <td>7</td>\n",
              "      <td>Rain</td>\n",
              "      <td>109</td>\n",
              "    </tr>\n",
              "    <tr>\n",
              "      <th>10</th>\n",
              "      <td>1/11/2016</td>\n",
              "      <td>33</td>\n",
              "      <td>8</td>\n",
              "      <td>37</td>\n",
              "      <td>29.92</td>\n",
              "      <td>10</td>\n",
              "      <td>NaN</td>\n",
              "      <td>0</td>\n",
              "      <td>1</td>\n",
              "      <td>NaN</td>\n",
              "      <td>289</td>\n",
              "    </tr>\n",
              "    <tr>\n",
              "      <th>11</th>\n",
              "      <td>1/12/2016</td>\n",
              "      <td>35</td>\n",
              "      <td>15</td>\n",
              "      <td>53</td>\n",
              "      <td>29.85</td>\n",
              "      <td>10</td>\n",
              "      <td>6.0</td>\n",
              "      <td>T</td>\n",
              "      <td>4</td>\n",
              "      <td>NaN</td>\n",
              "      <td>235</td>\n",
              "    </tr>\n",
              "    <tr>\n",
              "      <th>12</th>\n",
              "      <td>1/13/2016</td>\n",
              "      <td>26</td>\n",
              "      <td>4</td>\n",
              "      <td>42</td>\n",
              "      <td>29.94</td>\n",
              "      <td>10</td>\n",
              "      <td>10.0</td>\n",
              "      <td>0</td>\n",
              "      <td>0</td>\n",
              "      <td>NaN</td>\n",
              "      <td>284</td>\n",
              "    </tr>\n",
              "    <tr>\n",
              "      <th>13</th>\n",
              "      <td>1/14/2016</td>\n",
              "      <td>30</td>\n",
              "      <td>12</td>\n",
              "      <td>47</td>\n",
              "      <td>29.95</td>\n",
              "      <td>10</td>\n",
              "      <td>5.0</td>\n",
              "      <td>T</td>\n",
              "      <td>7</td>\n",
              "      <td>NaN</td>\n",
              "      <td>266</td>\n",
              "    </tr>\n",
              "    <tr>\n",
              "      <th>14</th>\n",
              "      <td>1/15/2016</td>\n",
              "      <td>43</td>\n",
              "      <td>31</td>\n",
              "      <td>62</td>\n",
              "      <td>29.82</td>\n",
              "      <td>9</td>\n",
              "      <td>5.0</td>\n",
              "      <td>T</td>\n",
              "      <td>2</td>\n",
              "      <td>NaN</td>\n",
              "      <td>101</td>\n",
              "    </tr>\n",
              "    <tr>\n",
              "      <th>15</th>\n",
              "      <td>1/16/2016</td>\n",
              "      <td>47</td>\n",
              "      <td>37</td>\n",
              "      <td>70</td>\n",
              "      <td>29.52</td>\n",
              "      <td>8</td>\n",
              "      <td>7.0</td>\n",
              "      <td>0.24</td>\n",
              "      <td>7</td>\n",
              "      <td>Rain</td>\n",
              "      <td>340</td>\n",
              "    </tr>\n",
              "    <tr>\n",
              "      <th>16</th>\n",
              "      <td>1/17/2016</td>\n",
              "      <td>36</td>\n",
              "      <td>23</td>\n",
              "      <td>66</td>\n",
              "      <td>29.78</td>\n",
              "      <td>8</td>\n",
              "      <td>6.0</td>\n",
              "      <td>0.05</td>\n",
              "      <td>6</td>\n",
              "      <td>Fog-Snow</td>\n",
              "      <td>345</td>\n",
              "    </tr>\n",
              "    <tr>\n",
              "      <th>17</th>\n",
              "      <td>1/18/2016</td>\n",
              "      <td>25</td>\n",
              "      <td>6</td>\n",
              "      <td>53</td>\n",
              "      <td>29.83</td>\n",
              "      <td>9</td>\n",
              "      <td>12.0</td>\n",
              "      <td>T</td>\n",
              "      <td>2</td>\n",
              "      <td>Snow</td>\n",
              "      <td>293</td>\n",
              "    </tr>\n",
              "    <tr>\n",
              "      <th>18</th>\n",
              "      <td>1/19/2016</td>\n",
              "      <td>22</td>\n",
              "      <td>3</td>\n",
              "      <td>42</td>\n",
              "      <td>30.03</td>\n",
              "      <td>10</td>\n",
              "      <td>11.0</td>\n",
              "      <td>0</td>\n",
              "      <td>1</td>\n",
              "      <td>NaN</td>\n",
              "      <td>293</td>\n",
              "    </tr>\n",
              "    <tr>\n",
              "      <th>19</th>\n",
              "      <td>1/20/2016</td>\n",
              "      <td>32</td>\n",
              "      <td>15</td>\n",
              "      <td>49</td>\n",
              "      <td>30.13</td>\n",
              "      <td>10</td>\n",
              "      <td>6.0</td>\n",
              "      <td>0</td>\n",
              "      <td>2</td>\n",
              "      <td>NaN</td>\n",
              "      <td>302</td>\n",
              "    </tr>\n",
              "    <tr>\n",
              "      <th>20</th>\n",
              "      <td>1/21/2016</td>\n",
              "      <td>31</td>\n",
              "      <td>11</td>\n",
              "      <td>45</td>\n",
              "      <td>30.15</td>\n",
              "      <td>10</td>\n",
              "      <td>6.0</td>\n",
              "      <td>0</td>\n",
              "      <td>1</td>\n",
              "      <td>NaN</td>\n",
              "      <td>312</td>\n",
              "    </tr>\n",
              "    <tr>\n",
              "      <th>21</th>\n",
              "      <td>1/22/2016</td>\n",
              "      <td>26</td>\n",
              "      <td>6</td>\n",
              "      <td>41</td>\n",
              "      <td>30.21</td>\n",
              "      <td>9</td>\n",
              "      <td>NaN</td>\n",
              "      <td>0.01</td>\n",
              "      <td>3</td>\n",
              "      <td>Snow</td>\n",
              "      <td>34</td>\n",
              "    </tr>\n",
              "    <tr>\n",
              "      <th>22</th>\n",
              "      <td>1/23/2016</td>\n",
              "      <td>26</td>\n",
              "      <td>21</td>\n",
              "      <td>78</td>\n",
              "      <td>29.77</td>\n",
              "      <td>1</td>\n",
              "      <td>16.0</td>\n",
              "      <td>2.31</td>\n",
              "      <td>8</td>\n",
              "      <td>Fog-Snow</td>\n",
              "      <td>42</td>\n",
              "    </tr>\n",
              "    <tr>\n",
              "      <th>23</th>\n",
              "      <td>1/24/2016</td>\n",
              "      <td>28</td>\n",
              "      <td>11</td>\n",
              "      <td>53</td>\n",
              "      <td>29.92</td>\n",
              "      <td>8</td>\n",
              "      <td>6.0</td>\n",
              "      <td>T</td>\n",
              "      <td>3</td>\n",
              "      <td>Snow</td>\n",
              "      <td>327</td>\n",
              "    </tr>\n",
              "    <tr>\n",
              "      <th>24</th>\n",
              "      <td>1/25/2016</td>\n",
              "      <td>34</td>\n",
              "      <td>18</td>\n",
              "      <td>54</td>\n",
              "      <td>30.25</td>\n",
              "      <td>10</td>\n",
              "      <td>3.0</td>\n",
              "      <td>0</td>\n",
              "      <td>2</td>\n",
              "      <td>NaN</td>\n",
              "      <td>286</td>\n",
              "    </tr>\n",
              "    <tr>\n",
              "      <th>25</th>\n",
              "      <td>1/26/2016</td>\n",
              "      <td>43</td>\n",
              "      <td>29</td>\n",
              "      <td>56</td>\n",
              "      <td>30.03</td>\n",
              "      <td>10</td>\n",
              "      <td>7.0</td>\n",
              "      <td>0</td>\n",
              "      <td>2</td>\n",
              "      <td>NaN</td>\n",
              "      <td>244</td>\n",
              "    </tr>\n",
              "    <tr>\n",
              "      <th>26</th>\n",
              "      <td>1/27/2016</td>\n",
              "      <td>41</td>\n",
              "      <td>22</td>\n",
              "      <td>45</td>\n",
              "      <td>30.03</td>\n",
              "      <td>10</td>\n",
              "      <td>7.0</td>\n",
              "      <td>T</td>\n",
              "      <td>3</td>\n",
              "      <td>Rain</td>\n",
              "      <td>311</td>\n",
              "    </tr>\n",
              "    <tr>\n",
              "      <th>27</th>\n",
              "      <td>1/28/2016</td>\n",
              "      <td>37</td>\n",
              "      <td>20</td>\n",
              "      <td>51</td>\n",
              "      <td>29.90</td>\n",
              "      <td>10</td>\n",
              "      <td>5.0</td>\n",
              "      <td>0</td>\n",
              "      <td>1</td>\n",
              "      <td>NaN</td>\n",
              "      <td>234</td>\n",
              "    </tr>\n",
              "    <tr>\n",
              "      <th>28</th>\n",
              "      <td>1/29/2016</td>\n",
              "      <td>36</td>\n",
              "      <td>21</td>\n",
              "      <td>50</td>\n",
              "      <td>29.58</td>\n",
              "      <td>10</td>\n",
              "      <td>8.0</td>\n",
              "      <td>0</td>\n",
              "      <td>4</td>\n",
              "      <td>NaN</td>\n",
              "      <td>298</td>\n",
              "    </tr>\n",
              "    <tr>\n",
              "      <th>29</th>\n",
              "      <td>1/30/2016</td>\n",
              "      <td>34</td>\n",
              "      <td>16</td>\n",
              "      <td>46</td>\n",
              "      <td>30.01</td>\n",
              "      <td>10</td>\n",
              "      <td>7.0</td>\n",
              "      <td>0</td>\n",
              "      <td>0</td>\n",
              "      <td>NaN</td>\n",
              "      <td>257</td>\n",
              "    </tr>\n",
              "    <tr>\n",
              "      <th>30</th>\n",
              "      <td>1/31/2016</td>\n",
              "      <td>46</td>\n",
              "      <td>28</td>\n",
              "      <td>52</td>\n",
              "      <td>29.90</td>\n",
              "      <td>10</td>\n",
              "      <td>5.0</td>\n",
              "      <td>0</td>\n",
              "      <td>0</td>\n",
              "      <td>NaN</td>\n",
              "      <td>241</td>\n",
              "    </tr>\n",
              "  </tbody>\n",
              "</table>\n",
              "</div>\n",
              "    <div class=\"colab-df-buttons\">\n",
              "\n",
              "  <div class=\"colab-df-container\">\n",
              "    <button class=\"colab-df-convert\" onclick=\"convertToInteractive('df-cc496baa-8fd5-4125-b65b-1554dedf79ac')\"\n",
              "            title=\"Convert this dataframe to an interactive table.\"\n",
              "            style=\"display:none;\">\n",
              "\n",
              "  <svg xmlns=\"http://www.w3.org/2000/svg\" height=\"24px\" viewBox=\"0 -960 960 960\">\n",
              "    <path d=\"M120-120v-720h720v720H120Zm60-500h600v-160H180v160Zm220 220h160v-160H400v160Zm0 220h160v-160H400v160ZM180-400h160v-160H180v160Zm440 0h160v-160H620v160ZM180-180h160v-160H180v160Zm440 0h160v-160H620v160Z\"/>\n",
              "  </svg>\n",
              "    </button>\n",
              "\n",
              "  <style>\n",
              "    .colab-df-container {\n",
              "      display:flex;\n",
              "      gap: 12px;\n",
              "    }\n",
              "\n",
              "    .colab-df-convert {\n",
              "      background-color: #E8F0FE;\n",
              "      border: none;\n",
              "      border-radius: 50%;\n",
              "      cursor: pointer;\n",
              "      display: none;\n",
              "      fill: #1967D2;\n",
              "      height: 32px;\n",
              "      padding: 0 0 0 0;\n",
              "      width: 32px;\n",
              "    }\n",
              "\n",
              "    .colab-df-convert:hover {\n",
              "      background-color: #E2EBFA;\n",
              "      box-shadow: 0px 1px 2px rgba(60, 64, 67, 0.3), 0px 1px 3px 1px rgba(60, 64, 67, 0.15);\n",
              "      fill: #174EA6;\n",
              "    }\n",
              "\n",
              "    .colab-df-buttons div {\n",
              "      margin-bottom: 4px;\n",
              "    }\n",
              "\n",
              "    [theme=dark] .colab-df-convert {\n",
              "      background-color: #3B4455;\n",
              "      fill: #D2E3FC;\n",
              "    }\n",
              "\n",
              "    [theme=dark] .colab-df-convert:hover {\n",
              "      background-color: #434B5C;\n",
              "      box-shadow: 0px 1px 3px 1px rgba(0, 0, 0, 0.15);\n",
              "      filter: drop-shadow(0px 1px 2px rgba(0, 0, 0, 0.3));\n",
              "      fill: #FFFFFF;\n",
              "    }\n",
              "  </style>\n",
              "\n",
              "    <script>\n",
              "      const buttonEl =\n",
              "        document.querySelector('#df-cc496baa-8fd5-4125-b65b-1554dedf79ac button.colab-df-convert');\n",
              "      buttonEl.style.display =\n",
              "        google.colab.kernel.accessAllowed ? 'block' : 'none';\n",
              "\n",
              "      async function convertToInteractive(key) {\n",
              "        const element = document.querySelector('#df-cc496baa-8fd5-4125-b65b-1554dedf79ac');\n",
              "        const dataTable =\n",
              "          await google.colab.kernel.invokeFunction('convertToInteractive',\n",
              "                                                    [key], {});\n",
              "        if (!dataTable) return;\n",
              "\n",
              "        const docLinkHtml = 'Like what you see? Visit the ' +\n",
              "          '<a target=\"_blank\" href=https://colab.research.google.com/notebooks/data_table.ipynb>data table notebook</a>'\n",
              "          + ' to learn more about interactive tables.';\n",
              "        element.innerHTML = '';\n",
              "        dataTable['output_type'] = 'display_data';\n",
              "        await google.colab.output.renderOutput(dataTable, element);\n",
              "        const docLink = document.createElement('div');\n",
              "        docLink.innerHTML = docLinkHtml;\n",
              "        element.appendChild(docLink);\n",
              "      }\n",
              "    </script>\n",
              "  </div>\n",
              "\n",
              "\n",
              "    <div id=\"df-ddc0b60d-88ae-4e84-bf09-638bcc018187\">\n",
              "      <button class=\"colab-df-quickchart\" onclick=\"quickchart('df-ddc0b60d-88ae-4e84-bf09-638bcc018187')\"\n",
              "                title=\"Suggest charts\"\n",
              "                style=\"display:none;\">\n",
              "\n",
              "<svg xmlns=\"http://www.w3.org/2000/svg\" height=\"24px\"viewBox=\"0 0 24 24\"\n",
              "     width=\"24px\">\n",
              "    <g>\n",
              "        <path d=\"M19 3H5c-1.1 0-2 .9-2 2v14c0 1.1.9 2 2 2h14c1.1 0 2-.9 2-2V5c0-1.1-.9-2-2-2zM9 17H7v-7h2v7zm4 0h-2V7h2v10zm4 0h-2v-4h2v4z\"/>\n",
              "    </g>\n",
              "</svg>\n",
              "      </button>\n",
              "\n",
              "<style>\n",
              "  .colab-df-quickchart {\n",
              "      --bg-color: #E8F0FE;\n",
              "      --fill-color: #1967D2;\n",
              "      --hover-bg-color: #E2EBFA;\n",
              "      --hover-fill-color: #174EA6;\n",
              "      --disabled-fill-color: #AAA;\n",
              "      --disabled-bg-color: #DDD;\n",
              "  }\n",
              "\n",
              "  [theme=dark] .colab-df-quickchart {\n",
              "      --bg-color: #3B4455;\n",
              "      --fill-color: #D2E3FC;\n",
              "      --hover-bg-color: #434B5C;\n",
              "      --hover-fill-color: #FFFFFF;\n",
              "      --disabled-bg-color: #3B4455;\n",
              "      --disabled-fill-color: #666;\n",
              "  }\n",
              "\n",
              "  .colab-df-quickchart {\n",
              "    background-color: var(--bg-color);\n",
              "    border: none;\n",
              "    border-radius: 50%;\n",
              "    cursor: pointer;\n",
              "    display: none;\n",
              "    fill: var(--fill-color);\n",
              "    height: 32px;\n",
              "    padding: 0;\n",
              "    width: 32px;\n",
              "  }\n",
              "\n",
              "  .colab-df-quickchart:hover {\n",
              "    background-color: var(--hover-bg-color);\n",
              "    box-shadow: 0 1px 2px rgba(60, 64, 67, 0.3), 0 1px 3px 1px rgba(60, 64, 67, 0.15);\n",
              "    fill: var(--button-hover-fill-color);\n",
              "  }\n",
              "\n",
              "  .colab-df-quickchart-complete:disabled,\n",
              "  .colab-df-quickchart-complete:disabled:hover {\n",
              "    background-color: var(--disabled-bg-color);\n",
              "    fill: var(--disabled-fill-color);\n",
              "    box-shadow: none;\n",
              "  }\n",
              "\n",
              "  .colab-df-spinner {\n",
              "    border: 2px solid var(--fill-color);\n",
              "    border-color: transparent;\n",
              "    border-bottom-color: var(--fill-color);\n",
              "    animation:\n",
              "      spin 1s steps(1) infinite;\n",
              "  }\n",
              "\n",
              "  @keyframes spin {\n",
              "    0% {\n",
              "      border-color: transparent;\n",
              "      border-bottom-color: var(--fill-color);\n",
              "      border-left-color: var(--fill-color);\n",
              "    }\n",
              "    20% {\n",
              "      border-color: transparent;\n",
              "      border-left-color: var(--fill-color);\n",
              "      border-top-color: var(--fill-color);\n",
              "    }\n",
              "    30% {\n",
              "      border-color: transparent;\n",
              "      border-left-color: var(--fill-color);\n",
              "      border-top-color: var(--fill-color);\n",
              "      border-right-color: var(--fill-color);\n",
              "    }\n",
              "    40% {\n",
              "      border-color: transparent;\n",
              "      border-right-color: var(--fill-color);\n",
              "      border-top-color: var(--fill-color);\n",
              "    }\n",
              "    60% {\n",
              "      border-color: transparent;\n",
              "      border-right-color: var(--fill-color);\n",
              "    }\n",
              "    80% {\n",
              "      border-color: transparent;\n",
              "      border-right-color: var(--fill-color);\n",
              "      border-bottom-color: var(--fill-color);\n",
              "    }\n",
              "    90% {\n",
              "      border-color: transparent;\n",
              "      border-bottom-color: var(--fill-color);\n",
              "    }\n",
              "  }\n",
              "</style>\n",
              "\n",
              "      <script>\n",
              "        async function quickchart(key) {\n",
              "          const quickchartButtonEl =\n",
              "            document.querySelector('#' + key + ' button');\n",
              "          quickchartButtonEl.disabled = true;  // To prevent multiple clicks.\n",
              "          quickchartButtonEl.classList.add('colab-df-spinner');\n",
              "          try {\n",
              "            const charts = await google.colab.kernel.invokeFunction(\n",
              "                'suggestCharts', [key], {});\n",
              "          } catch (error) {\n",
              "            console.error('Error during call to suggestCharts:', error);\n",
              "          }\n",
              "          quickchartButtonEl.classList.remove('colab-df-spinner');\n",
              "          quickchartButtonEl.classList.add('colab-df-quickchart-complete');\n",
              "        }\n",
              "        (() => {\n",
              "          let quickchartButtonEl =\n",
              "            document.querySelector('#df-ddc0b60d-88ae-4e84-bf09-638bcc018187 button');\n",
              "          quickchartButtonEl.style.display =\n",
              "            google.colab.kernel.accessAllowed ? 'block' : 'none';\n",
              "        })();\n",
              "      </script>\n",
              "    </div>\n",
              "\n",
              "  <div id=\"id_8704c141-b90d-4b46-9710-a37c3a393fa8\">\n",
              "    <style>\n",
              "      .colab-df-generate {\n",
              "        background-color: #E8F0FE;\n",
              "        border: none;\n",
              "        border-radius: 50%;\n",
              "        cursor: pointer;\n",
              "        display: none;\n",
              "        fill: #1967D2;\n",
              "        height: 32px;\n",
              "        padding: 0 0 0 0;\n",
              "        width: 32px;\n",
              "      }\n",
              "\n",
              "      .colab-df-generate:hover {\n",
              "        background-color: #E2EBFA;\n",
              "        box-shadow: 0px 1px 2px rgba(60, 64, 67, 0.3), 0px 1px 3px 1px rgba(60, 64, 67, 0.15);\n",
              "        fill: #174EA6;\n",
              "      }\n",
              "\n",
              "      [theme=dark] .colab-df-generate {\n",
              "        background-color: #3B4455;\n",
              "        fill: #D2E3FC;\n",
              "      }\n",
              "\n",
              "      [theme=dark] .colab-df-generate:hover {\n",
              "        background-color: #434B5C;\n",
              "        box-shadow: 0px 1px 3px 1px rgba(0, 0, 0, 0.15);\n",
              "        filter: drop-shadow(0px 1px 2px rgba(0, 0, 0, 0.3));\n",
              "        fill: #FFFFFF;\n",
              "      }\n",
              "    </style>\n",
              "    <button class=\"colab-df-generate\" onclick=\"generateWithVariable('df')\"\n",
              "            title=\"Generate code using this dataframe.\"\n",
              "            style=\"display:none;\">\n",
              "\n",
              "  <svg xmlns=\"http://www.w3.org/2000/svg\" height=\"24px\"viewBox=\"0 0 24 24\"\n",
              "       width=\"24px\">\n",
              "    <path d=\"M7,19H8.4L18.45,9,17,7.55,7,17.6ZM5,21V16.75L18.45,3.32a2,2,0,0,1,2.83,0l1.4,1.43a1.91,1.91,0,0,1,.58,1.4,1.91,1.91,0,0,1-.58,1.4L9.25,21ZM18.45,9,17,7.55Zm-12,3A5.31,5.31,0,0,0,4.9,8.1,5.31,5.31,0,0,0,1,6.5,5.31,5.31,0,0,0,4.9,4.9,5.31,5.31,0,0,0,6.5,1,5.31,5.31,0,0,0,8.1,4.9,5.31,5.31,0,0,0,12,6.5,5.46,5.46,0,0,0,6.5,12Z\"/>\n",
              "  </svg>\n",
              "    </button>\n",
              "    <script>\n",
              "      (() => {\n",
              "      const buttonEl =\n",
              "        document.querySelector('#id_8704c141-b90d-4b46-9710-a37c3a393fa8 button.colab-df-generate');\n",
              "      buttonEl.style.display =\n",
              "        google.colab.kernel.accessAllowed ? 'block' : 'none';\n",
              "\n",
              "      buttonEl.onclick = () => {\n",
              "        google.colab.notebook.generateWithVariable('df');\n",
              "      }\n",
              "      })();\n",
              "    </script>\n",
              "  </div>\n",
              "\n",
              "    </div>\n",
              "  </div>\n"
            ],
            "application/vnd.google.colaboratory.intrinsic+json": {
              "type": "dataframe",
              "variable_name": "df",
              "summary": "{\n  \"name\": \"df\",\n  \"rows\": 31,\n  \"fields\": [\n    {\n      \"column\": \"EST\",\n      \"properties\": {\n        \"dtype\": \"object\",\n        \"num_unique_values\": 31,\n        \"samples\": [\n          \"1/28/2016\",\n          \"1/16/2016\",\n          \"1/24/2016\"\n        ],\n        \"semantic_type\": \"\",\n        \"description\": \"\"\n      }\n    },\n    {\n      \"column\": \"Temperature\",\n      \"properties\": {\n        \"dtype\": \"number\",\n        \"std\": 7,\n        \"min\": 20,\n        \"max\": 50,\n        \"num_unique_values\": 22,\n        \"samples\": [\n          38,\n          47,\n          50\n        ],\n        \"semantic_type\": \"\",\n        \"description\": \"\"\n      }\n    },\n    {\n      \"column\": \"DewPoint\",\n      \"properties\": {\n        \"dtype\": \"number\",\n        \"std\": 11,\n        \"min\": -3,\n        \"max\": 46,\n        \"num_unique_values\": 21,\n        \"samples\": [\n          23,\n          22,\n          6\n        ],\n        \"semantic_type\": \"\",\n        \"description\": \"\"\n      }\n    },\n    {\n      \"column\": \"Humidity\",\n      \"properties\": {\n        \"dtype\": \"number\",\n        \"std\": 11,\n        \"min\": 33,\n        \"max\": 78,\n        \"num_unique_values\": 23,\n        \"samples\": [\n          66,\n          71,\n          52\n        ],\n        \"semantic_type\": \"\",\n        \"description\": \"\"\n      }\n    },\n    {\n      \"column\": \"Sea Level PressureIn\",\n      \"properties\": {\n        \"dtype\": \"number\",\n        \"std\": 0.23723678113349275,\n        \"min\": 29.52,\n        \"max\": 30.57,\n        \"num_unique_values\": 26,\n        \"samples\": [\n          30.16,\n          29.78,\n          30.03\n        ],\n        \"semantic_type\": \"\",\n        \"description\": \"\"\n      }\n    },\n    {\n      \"column\": \"VisibilityMiles\",\n      \"properties\": {\n        \"dtype\": \"number\",\n        \"std\": 1,\n        \"min\": 1,\n        \"max\": 10,\n        \"num_unique_values\": 5,\n        \"samples\": [\n          9,\n          1,\n          4\n        ],\n        \"semantic_type\": \"\",\n        \"description\": \"\"\n      }\n    },\n    {\n      \"column\": \"WindSpeedMPH\",\n      \"properties\": {\n        \"dtype\": \"number\",\n        \"std\": 2.871820763445118,\n        \"min\": 2.0,\n        \"max\": 16.0,\n        \"num_unique_values\": 12,\n        \"samples\": [\n          16.0,\n          11.0,\n          8.0\n        ],\n        \"semantic_type\": \"\",\n        \"description\": \"\"\n      }\n    },\n    {\n      \"column\": \"PrecipitationIn\",\n      \"properties\": {\n        \"dtype\": \"category\",\n        \"num_unique_values\": 7,\n        \"samples\": [\n          \"0\",\n          \"T\",\n          \"0.01\"\n        ],\n        \"semantic_type\": \"\",\n        \"description\": \"\"\n      }\n    },\n    {\n      \"column\": \"CloudCover\",\n      \"properties\": {\n        \"dtype\": \"number\",\n        \"std\": 2,\n        \"min\": 0,\n        \"max\": 8,\n        \"num_unique_values\": 9,\n        \"samples\": [\n          2,\n          3,\n          7\n        ],\n        \"semantic_type\": \"\",\n        \"description\": \"\"\n      }\n    },\n    {\n      \"column\": \"Events\",\n      \"properties\": {\n        \"dtype\": \"category\",\n        \"num_unique_values\": 3,\n        \"samples\": [\n          \"Rain\",\n          \"Fog-Snow\",\n          \"Snow\"\n        ],\n        \"semantic_type\": \"\",\n        \"description\": \"\"\n      }\n    },\n    {\n      \"column\": \"WindDirDegrees\",\n      \"properties\": {\n        \"dtype\": \"number\",\n        \"std\": 92,\n        \"min\": 34,\n        \"max\": 345,\n        \"num_unique_values\": 28,\n        \"samples\": [\n          109,\n          298,\n          76\n        ],\n        \"semantic_type\": \"\",\n        \"description\": \"\"\n      }\n    }\n  ]\n}"
            }
          },
          "metadata": {},
          "execution_count": 72
        }
      ]
    },
    {
      "cell_type": "code",
      "source": [
        "max_temp = df['Temperature'].max()\n",
        "print(\"Max temperature :\",max_temp)"
      ],
      "metadata": {
        "colab": {
          "base_uri": "https://localhost:8080/"
        },
        "id": "dk59yCWhYeV3",
        "outputId": "789af19e-6200-4b8d-a19a-063420b47130"
      },
      "execution_count": null,
      "outputs": [
        {
          "output_type": "stream",
          "name": "stdout",
          "text": [
            "Max temperature : 50\n"
          ]
        }
      ]
    },
    {
      "cell_type": "code",
      "source": [
        "rain = df['EST'][df['Events'] == 'Rain']\n",
        "print(\"\\nDays with rain : \",)\n",
        "print(rain)\n"
      ],
      "metadata": {
        "colab": {
          "base_uri": "https://localhost:8080/"
        },
        "id": "M2wRtEleaXbp",
        "outputId": "dca94f95-9ec0-4aa0-999c-fe68a2c9efb1"
      },
      "execution_count": null,
      "outputs": [
        {
          "output_type": "stream",
          "name": "stdout",
          "text": [
            "\n",
            "Days with rain : \n",
            "8      1/9/2016\n",
            "9     1/10/2016\n",
            "15    1/16/2016\n",
            "26    1/27/2016\n",
            "Name: EST, dtype: object\n"
          ]
        }
      ]
    },
    {
      "cell_type": "code",
      "source": [
        "avg_speed = df['WindSpeedMPH'].mean()\n",
        "print(\"Average wind speed: \")\n",
        "print(avg_speed)"
      ],
      "metadata": {
        "colab": {
          "base_uri": "https://localhost:8080/"
        },
        "id": "SAkrXF6mjQVl",
        "outputId": "3a77856a-309f-4900-dbf5-04590decc527"
      },
      "execution_count": null,
      "outputs": [
        {
          "output_type": "stream",
          "name": "stdout",
          "text": [
            "Average wind speed: \n",
            "6.892857142857143\n"
          ]
        }
      ]
    }
  ]
}